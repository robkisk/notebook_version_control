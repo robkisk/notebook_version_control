{
 "cells": [
  {
   "cell_type": "code",
   "execution_count": 1,
   "metadata": {},
   "outputs": [],
   "source": [
    "import numpy as np\n",
    "import polars as pl\n",
    "\n",
    "num_rows = 1000\n",
    "rng = np.random.default_rng(seed=7)\n",
    "\n",
    "buildings_data = {\n",
    "\"sqft\": rng.exponential(scale=1000, size=num_rows),\"year\": rng.integers(low=1995, high=2023, size=num_rows),\"building_type\": rng.choice([\"A\", \"B\", \"C\"], size=num_rows)}\n",
    "buildings = pl.DataFrame(buildings_data)\n"
   ]
  },
  {
   "cell_type": "code",
   "execution_count": 2,
   "metadata": {},
   "outputs": [
    {
     "data": {
      "text/html": [
       "<div><style>\n",
       ".dataframe > thead > tr,\n",
       ".dataframe > tbody > tr {\n",
       "  text-align: right;\n",
       "  white-space: pre-wrap;\n",
       "}\n",
       "</style>\n",
       "<small>shape: (5_000, 3)</small><table border=\"1\" class=\"dataframe\"><thead><tr><th>sqft</th><th>year</th><th>building_type</th></tr><tr><td>f64</td><td>i64</td><td>str</td></tr></thead><tbody><tr><td>707.529256</td><td>1996</td><td>&quot;C&quot;</td></tr><tr><td>1025.203348</td><td>2020</td><td>&quot;C&quot;</td></tr><tr><td>568.548657</td><td>2012</td><td>&quot;A&quot;</td></tr><tr><td>895.109864</td><td>2000</td><td>&quot;A&quot;</td></tr><tr><td>206.532754</td><td>2011</td><td>&quot;A&quot;</td></tr><tr><td>&hellip;</td><td>&hellip;</td><td>&hellip;</td></tr><tr><td>710.435755</td><td>2003</td><td>&quot;C&quot;</td></tr><tr><td>408.872783</td><td>2009</td><td>&quot;C&quot;</td></tr><tr><td>57.562059</td><td>2019</td><td>&quot;C&quot;</td></tr><tr><td>3728.088949</td><td>2020</td><td>&quot;C&quot;</td></tr><tr><td>686.678345</td><td>2011</td><td>&quot;C&quot;</td></tr></tbody></table></div>"
      ],
      "text/plain": [
       "shape: (5_000, 3)\n",
       "┌─────────────┬──────┬───────────────┐\n",
       "│ sqft        ┆ year ┆ building_type │\n",
       "│ ---         ┆ ---  ┆ ---           │\n",
       "│ f64         ┆ i64  ┆ str           │\n",
       "╞═════════════╪══════╪═══════════════╡\n",
       "│ 707.529256  ┆ 1996 ┆ C             │\n",
       "│ 1025.203348 ┆ 2020 ┆ C             │\n",
       "│ 568.548657  ┆ 2012 ┆ A             │\n",
       "│ 895.109864  ┆ 2000 ┆ A             │\n",
       "│ 206.532754  ┆ 2011 ┆ A             │\n",
       "│ …           ┆ …    ┆ …             │\n",
       "│ 710.435755  ┆ 2003 ┆ C             │\n",
       "│ 408.872783  ┆ 2009 ┆ C             │\n",
       "│ 57.562059   ┆ 2019 ┆ C             │\n",
       "│ 3728.088949 ┆ 2020 ┆ C             │\n",
       "│ 686.678345  ┆ 2011 ┆ C             │\n",
       "└─────────────┴──────┴───────────────┘"
      ]
     },
     "execution_count": 2,
     "metadata": {},
     "output_type": "execute_result"
    }
   ],
   "source": [
    "buildings"
   ]
  }
 ],
 "metadata": {
  "kernelspec": {
   "display_name": "py3.11.9",
   "language": "python",
   "name": "py3119"
  },
  "language_info": {
   "codemirror_mode": {
    "name": "ipython",
    "version": 3
   },
   "file_extension": ".py",
   "mimetype": "text/x-python",
   "name": "python",
   "nbconvert_exporter": "python",
   "pygments_lexer": "ipython3",
   "version": "3.11.10"
  }
 },
 "nbformat": 4,
 "nbformat_minor": 2
}
